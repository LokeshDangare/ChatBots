{
 "cells": [
  {
   "cell_type": "markdown",
   "metadata": {},
   "source": [
    "## Python Dictionaries"
   ]
  },
  {
   "cell_type": "code",
   "execution_count": 4,
   "metadata": {},
   "outputs": [],
   "source": [
    "import random"
   ]
  },
  {
   "cell_type": "code",
   "execution_count": 5,
   "metadata": {},
   "outputs": [],
   "source": [
    "# Mapping Intents with list of keywords.\n",
    "# Keys - intents, keywords - list of values.\n",
    "\n",
    "intents = {\n",
    "    \"greeting\": ['hello', 'hi', 'good morning', 'good night', 'whats up'],\n",
    "    \"time\": ['working', 'hours', 'long', 'time'],\n",
    "    \"closing\": ['bye', 'goog bye', 'see you later']\n",
    "}"
   ]
  },
  {
   "cell_type": "code",
   "execution_count": 6,
   "metadata": {},
   "outputs": [],
   "source": [
    "responses = {\n",
    "    \"greeting\": ['Hey, I am a chatbot', 'Hey, How can I help you?'],\n",
    "    \"time\": ['I can work from 9am to 9pm'],\n",
    "    \"closing\": ['Bye! Have a nice day ahead', 'Bye! Nice to talk with you']\n",
    "}"
   ]
  },
  {
   "cell_type": "code",
   "execution_count": null,
   "metadata": {},
   "outputs": [],
   "source": [
    "while True:\n",
    "    print(\"CHATBOT\")\n",
    "    q = input()\n",
    "    q = q.lower()\n",
    "    selected_intents = ''\n",
    "    for intent, keywords in intents.items():\n",
    "        if q in keywords:\n",
    "            selected_intents += intent\n",
    "            break\n",
    "    print(\"chatbot: \", random.choice(responses[selected_intents]))"
   ]
  },
  {
   "cell_type": "code",
   "execution_count": null,
   "metadata": {},
   "outputs": [],
   "source": []
  }
 ],
 "metadata": {
  "kernelspec": {
   "display_name": "chatbot",
   "language": "python",
   "name": "python3"
  },
  "language_info": {
   "codemirror_mode": {
    "name": "ipython",
    "version": 3
   },
   "file_extension": ".py",
   "mimetype": "text/x-python",
   "name": "python",
   "nbconvert_exporter": "python",
   "pygments_lexer": "ipython3",
   "version": "3.8.20"
  }
 },
 "nbformat": 4,
 "nbformat_minor": 2
}
